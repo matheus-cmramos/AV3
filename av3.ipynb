{
 "cells": [
  {
   "cell_type": "code",
   "execution_count": null,
   "metadata": {},
   "outputs": [],
   "source": [
    "import pandas as pd\n",
    "import numpy as np\n",
    "import matplotlib as plt\n",
    "\n",
    "\n",
    "#puxando os csv do site do governo\n",
    "ocorrencia = pd.read_csv(\"ocorrencia.csv\", sep=\";\", encoding= \"latin1\", dayfirst= True)\n",
    "aeronave = pd.read_csv(\"aeronave.csv\", sep=\";\", encoding= \"latin1\")\n",
    "fator_contribuinte = pd.read_csv(\"fator_contribuinte.csv\", sep=\";\", encoding= \"latin1\")\n",
    "ocorrencia_tipo = pd.read_csv(\"ocorrencia_tipo.csv\", sep=\";\", encoding= \"latin1\")\n",
    "recomendacao = pd.read_csv(\"recomendacao.csv\", sep=\";\", encoding= \"latin1\")\n",
    "\n",
    "#transformando em dataframe\n",
    "\n",
    "ocorrencia_df = pd.DataFrame(ocorrencia)\n",
    "ocorrencia_df = ocorrencia_df[['codigo_ocorrencia', 'ocorrencia_classificacao', 'ocorrencia_uf', 'ocorrencia_dia']]\n",
    "ocorrencia_df\n",
    "\n",
    "aeronave_df = pd.DataFrame(aeronave)   \n",
    "aeronave_df = aeronave_df[['codigo_ocorrencia2', 'aeronave_fabricante', 'aeronave_motor_tipo', 'aeronave_fatalidades_total']]\n",
    "aeronave_df\n",
    "\n",
    "fator_contribuinte_df = pd.DataFrame(fator_contribuinte)\n",
    "fator_contribuinte_df = fator_contribuinte_df[['codigo_ocorrencia3','fator_nome','fator_aspecto', 'fator_condicionante']]\n",
    "fator_contribuinte_df\n",
    "\n",
    "ocorrencia_tipo_df = pd.DataFrame(ocorrencia_tipo)\n",
    "ocorrencia_tipo_df = ocorrencia_tipo_df[['codigo_ocorrencia1','ocorrencia_tipo']]\n",
    "ocorrencia_tipo_df\n",
    "\n",
    "recomendacao_df = pd.DataFrame(recomendacao)\n",
    "recomendacao_df = recomendacao_df[['codigo_ocorrencia4','recomendacao_conteudo']]\n",
    "recomendacao_df\n",
    "\n"
   ]
  },
  {
   "cell_type": "code",
   "execution_count": 34,
   "metadata": {},
   "outputs": [],
   "source": [
    "#linha temporal de acidentes por ano\n",
    "\n",
    "ocorrencia_df1 = ocorrencia_df.drop_duplicates()\n",
    "ocorrencia_df1 = ocorrencia.rename(columns= {'ocorrencia_classificacao':'Nº Acidentes', ''})"
   ]
  }
 ],
 "metadata": {
  "kernelspec": {
   "display_name": "Python 3",
   "language": "python",
   "name": "python3"
  },
  "language_info": {
   "codemirror_mode": {
    "name": "ipython",
    "version": 3
   },
   "file_extension": ".py",
   "mimetype": "text/x-python",
   "name": "python",
   "nbconvert_exporter": "python",
   "pygments_lexer": "ipython3",
   "version": "3.13.5"
  }
 },
 "nbformat": 4,
 "nbformat_minor": 2
}
