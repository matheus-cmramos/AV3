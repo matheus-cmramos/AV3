{
 "cells": [
  {
   "cell_type": "code",
   "execution_count": null,
   "metadata": {},
   "outputs": [],
   "source": [
    "import pandas as pd\n",
    "import numpy as np\n",
    "import seaborn as sns\n",
    "\n",
    "\n",
    "#puxando os csv do site do governo\n",
    "ocorrencia = pd.read_csv(\"ocorrencia.csv\", sep=\";\", encoding= \"latin1\", dayfirst= True)\n",
    "aeronave = pd.read_csv(\"aeronave.csv\", sep=\";\", encoding= \"latin1\")\n",
    "fator_contribuinte = pd.read_csv(\"fator_contribuinte.csv\", sep=\";\", encoding= \"latin1\")\n",
    "ocorrencia_tipo = pd.read_csv(\"ocorrencia_tipo.csv\", sep=\";\", encoding= \"latin1\")\n",
    "recomendacao = pd.read_csv(\"recomendacao.csv\", sep=\";\", encoding= \"latin1\")\n",
    "\n",
    "#transformando em dataframe\n",
    "\n",
    "ocorrencia_df = pd.DataFrame(ocorrencia)\n",
    "ocorrencia_df = ocorrencia_df[['codigo_ocorrencia', 'ocorrencia_classificacao', 'ocorrencia_uf', 'ocorrencia_dia']]\n",
    "ocorrencia_df\n",
    "\n",
    "aeronave_df = pd.DataFrame(aeronave)   \n",
    "aeronave_df = aeronave_df[['codigo_ocorrencia2', 'aeronave_fabricante', 'aeronave_motor_tipo', 'aeronave_fatalidades_total']]\n",
    "aeronave_df\n",
    "\n",
    "fator_contribuinte_df = pd.DataFrame(fator_contribuinte)\n",
    "fator_contribuinte_df = fator_contribuinte_df[['codigo_ocorrencia3','fator_nome','fator_aspecto', 'fator_condicionante']]\n",
    "fator_contribuinte_df\n",
    "\n",
    "ocorrencia_tipo_df = pd.DataFrame(ocorrencia_tipo)\n",
    "ocorrencia_tipo_df = ocorrencia_tipo_df[['codigo_ocorrencia1','ocorrencia_tipo']]\n",
    "ocorrencia_tipo_df\n",
    "\n",
    "recomendacao_df = pd.DataFrame(recomendacao)\n",
    "recomendacao_df = recomendacao_df[['codigo_ocorrencia4','recomendacao_conteudo']]\n",
    "recomendacao_df\n",
    "\n"
   ]
  },
  {
   "cell_type": "code",
   "execution_count": 34,
   "metadata": {},
   "outputs": [],
   "source": [
    "#linha temporal de acidentes por ano\n",
    "\n",
    "ocorrencia_df1 = ocorrencia_df.drop_duplicates()\n",
    "ocorrencia_df1 = ocorrencia.rename(columns= {'ocorrencia_classificacao':'Nº Acidentes', ''})"
   ]
  },
  {
   "cell_type": "code",
   "execution_count": 35,
   "metadata": {},
   "outputs": [
    {
     "name": "stdout",
     "output_type": "stream",
     "text": [
      "Collecting seaborn\n",
      "  Downloading seaborn-0.13.2-py3-none-any.whl.metadata (5.4 kB)\n",
      "Requirement already satisfied: numpy!=1.24.0,>=1.20 in c:\\users\\monteiro.ramos\\appdata\\local\\programs\\python\\python313\\lib\\site-packages (from seaborn) (2.3.1)\n",
      "Requirement already satisfied: pandas>=1.2 in c:\\users\\monteiro.ramos\\appdata\\local\\programs\\python\\python313\\lib\\site-packages (from seaborn) (2.3.0)\n",
      "Requirement already satisfied: matplotlib!=3.6.1,>=3.4 in c:\\users\\monteiro.ramos\\appdata\\local\\programs\\python\\python313\\lib\\site-packages (from seaborn) (3.10.3)\n",
      "Requirement already satisfied: contourpy>=1.0.1 in c:\\users\\monteiro.ramos\\appdata\\local\\programs\\python\\python313\\lib\\site-packages (from matplotlib!=3.6.1,>=3.4->seaborn) (1.3.2)\n",
      "Requirement already satisfied: cycler>=0.10 in c:\\users\\monteiro.ramos\\appdata\\local\\programs\\python\\python313\\lib\\site-packages (from matplotlib!=3.6.1,>=3.4->seaborn) (0.12.1)\n",
      "Requirement already satisfied: fonttools>=4.22.0 in c:\\users\\monteiro.ramos\\appdata\\local\\programs\\python\\python313\\lib\\site-packages (from matplotlib!=3.6.1,>=3.4->seaborn) (4.58.4)\n",
      "Requirement already satisfied: kiwisolver>=1.3.1 in c:\\users\\monteiro.ramos\\appdata\\local\\programs\\python\\python313\\lib\\site-packages (from matplotlib!=3.6.1,>=3.4->seaborn) (1.4.8)\n",
      "Requirement already satisfied: packaging>=20.0 in c:\\users\\monteiro.ramos\\appdata\\roaming\\python\\python313\\site-packages (from matplotlib!=3.6.1,>=3.4->seaborn) (25.0)\n",
      "Requirement already satisfied: pillow>=8 in c:\\users\\monteiro.ramos\\appdata\\local\\programs\\python\\python313\\lib\\site-packages (from matplotlib!=3.6.1,>=3.4->seaborn) (11.2.1)\n",
      "Requirement already satisfied: pyparsing>=2.3.1 in c:\\users\\monteiro.ramos\\appdata\\local\\programs\\python\\python313\\lib\\site-packages (from matplotlib!=3.6.1,>=3.4->seaborn) (3.2.3)\n",
      "Requirement already satisfied: python-dateutil>=2.7 in c:\\users\\monteiro.ramos\\appdata\\roaming\\python\\python313\\site-packages (from matplotlib!=3.6.1,>=3.4->seaborn) (2.9.0.post0)\n",
      "Requirement already satisfied: pytz>=2020.1 in c:\\users\\monteiro.ramos\\appdata\\local\\programs\\python\\python313\\lib\\site-packages (from pandas>=1.2->seaborn) (2025.2)\n",
      "Requirement already satisfied: tzdata>=2022.7 in c:\\users\\monteiro.ramos\\appdata\\local\\programs\\python\\python313\\lib\\site-packages (from pandas>=1.2->seaborn) (2025.2)\n",
      "Requirement already satisfied: six>=1.5 in c:\\users\\monteiro.ramos\\appdata\\roaming\\python\\python313\\site-packages (from python-dateutil>=2.7->matplotlib!=3.6.1,>=3.4->seaborn) (1.17.0)\n",
      "Downloading seaborn-0.13.2-py3-none-any.whl (294 kB)\n",
      "Installing collected packages: seaborn\n",
      "Successfully installed seaborn-0.13.2\n",
      "Note: you may need to restart the kernel to use updated packages.\n"
     ]
    }
   ],
   "source": [
    "%pip install seaborn"
   ]
  }
 ],
 "metadata": {
  "kernelspec": {
   "display_name": "Python 3",
   "language": "python",
   "name": "python3"
  },
  "language_info": {
   "codemirror_mode": {
    "name": "ipython",
    "version": 3
   },
   "file_extension": ".py",
   "mimetype": "text/x-python",
   "name": "python",
   "nbconvert_exporter": "python",
   "pygments_lexer": "ipython3",
   "version": "3.13.5"
  }
 },
 "nbformat": 4,
 "nbformat_minor": 2
}
